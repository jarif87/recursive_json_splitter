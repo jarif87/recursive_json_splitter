{
 "cells": [
  {
   "cell_type": "code",
   "execution_count": 10,
   "metadata": {},
   "outputs": [],
   "source": [
    "import json\n",
    "import requests\n",
    "\n",
    "# json_data=requests.get(\"https://api.smith.langchain.com/openapi.json\").json()\n",
    "file_path=\"sample1.json\"\n",
    "with open(file_path,\"r\") as f:\n",
    "    json_data=json.load(f)"
   ]
  },
  {
   "cell_type": "code",
   "execution_count": 11,
   "metadata": {},
   "outputs": [
    {
     "data": {
      "text/plain": [
       "{'bow': False,\n",
       " 'darkness': -237410322,\n",
       " 'proper': 'raw',\n",
       " 'worse': -362431767,\n",
       " 'see': {'these': [837885626,\n",
       "   1384841275,\n",
       "   -1010534414,\n",
       "   True,\n",
       "   -853054658.3094907,\n",
       "   'spoken'],\n",
       "  'star': 'ocean',\n",
       "  'chief': 'agree',\n",
       "  'sugar': False,\n",
       "  'straight': 'matter',\n",
       "  'cake': True},\n",
       " 'tree': 1877080137}"
      ]
     },
     "execution_count": 11,
     "metadata": {},
     "output_type": "execute_result"
    }
   ],
   "source": [
    "json_data"
   ]
  },
  {
   "cell_type": "code",
   "execution_count": 12,
   "metadata": {},
   "outputs": [],
   "source": [
    "from langchain_text_splitters import RecursiveJsonSplitter\n",
    "json_splitter=RecursiveJsonSplitter(max_chunk_size=300)\n",
    "json_chunks=json_splitter.split_json(json_data)"
   ]
  },
  {
   "cell_type": "code",
   "execution_count": 13,
   "metadata": {},
   "outputs": [
    {
     "data": {
      "text/plain": [
       "[{'bow': False,\n",
       "  'darkness': -237410322,\n",
       "  'proper': 'raw',\n",
       "  'worse': -362431767,\n",
       "  'see': {'these': [837885626,\n",
       "    1384841275,\n",
       "    -1010534414,\n",
       "    True,\n",
       "    -853054658.3094907,\n",
       "    'spoken'],\n",
       "   'star': 'ocean',\n",
       "   'chief': 'agree',\n",
       "   'sugar': False,\n",
       "   'straight': 'matter',\n",
       "   'cake': True},\n",
       "  'tree': 1877080137}]"
      ]
     },
     "execution_count": 13,
     "metadata": {},
     "output_type": "execute_result"
    }
   ],
   "source": [
    "json_chunks"
   ]
  },
  {
   "cell_type": "code",
   "execution_count": 14,
   "metadata": {},
   "outputs": [
    {
     "name": "stdout",
     "output_type": "stream",
     "text": [
      "{'bow': False, 'darkness': -237410322, 'proper': 'raw', 'worse': -362431767, 'see': {'these': [837885626, 1384841275, -1010534414, True, -853054658.3094907, 'spoken'], 'star': 'ocean', 'chief': 'agree', 'sugar': False, 'straight': 'matter', 'cake': True}, 'tree': 1877080137}\n"
     ]
    }
   ],
   "source": [
    "for chunk in json_chunks[:3]:\n",
    "    print(chunk)"
   ]
  },
  {
   "cell_type": "code",
   "execution_count": 15,
   "metadata": {},
   "outputs": [
    {
     "name": "stdout",
     "output_type": "stream",
     "text": [
      "page_content='{\"bow\": false, \"darkness\": -237410322, \"proper\": \"raw\", \"worse\": -362431767, \"see\": {\"these\": [837885626, 1384841275, -1010534414, true, -853054658.3094907, \"spoken\"], \"star\": \"ocean\", \"chief\": \"agree\", \"sugar\": false, \"straight\": \"matter\", \"cake\": true}, \"tree\": 1877080137}'\n"
     ]
    }
   ],
   "source": [
    "## The splitter can also output documents\n",
    "docs=json_splitter.create_documents(texts=[json_data])\n",
    "for doc in docs[:3]:\n",
    "    print(doc)"
   ]
  },
  {
   "cell_type": "code",
   "execution_count": 17,
   "metadata": {},
   "outputs": [
    {
     "name": "stdout",
     "output_type": "stream",
     "text": [
      "{\"bow\": false, \"darkness\": -237410322, \"proper\": \"raw\", \"worse\": -362431767, \"see\": {\"these\": [837885626, 1384841275, -1010534414, true, -853054658.3094907, \"spoken\"], \"star\": \"ocean\", \"chief\": \"agree\", \"sugar\": false, \"straight\": \"matter\", \"cake\": true}, \"tree\": 1877080137}\n"
     ]
    }
   ],
   "source": [
    "texts=json_splitter.split_text(json_data)\n",
    "print(texts[0])\n"
   ]
  },
  {
   "cell_type": "code",
   "execution_count": null,
   "metadata": {},
   "outputs": [],
   "source": []
  }
 ],
 "metadata": {
  "kernelspec": {
   "display_name": "venv",
   "language": "python",
   "name": "python3"
  },
  "language_info": {
   "codemirror_mode": {
    "name": "ipython",
    "version": 3
   },
   "file_extension": ".py",
   "mimetype": "text/x-python",
   "name": "python",
   "nbconvert_exporter": "python",
   "pygments_lexer": "ipython3",
   "version": "3.12.0"
  }
 },
 "nbformat": 4,
 "nbformat_minor": 2
}
